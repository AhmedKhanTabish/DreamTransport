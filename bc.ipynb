{
 "cells": [
  {
   "cell_type": "code",
   "execution_count": 13,
   "id": "01985226",
   "metadata": {},
   "outputs": [
    {
     "name": "stdout",
     "output_type": "stream",
     "text": [
      "Latitude: 49.2823036\n",
      "Longitude: 11.4554302\n"
     ]
    }
   ],
   "source": [
    "import requests\n",
    "\n",
    "address = \"Neumarkt i.d. OPf. Rathaus 1, Neumarkt in der Oberpfalz, Germany\"\n",
    "url = \"https://nominatim.openstreetmap.org/search\"\n",
    "params = {\"q\": address, \"format\": \"json\"}\n",
    "headers = {\"User-Agent\": \"MyApp/1.0 (myemail@example.com)\"}  # Required\n",
    "\n",
    "response = requests.get(url, params=params, headers=headers)\n",
    "\n",
    "if response.status_code == 200:\n",
    "    try:\n",
    "        data = response.json()\n",
    "        if data:\n",
    "            print(\"Latitude:\", data[0][\"lat\"])\n",
    "            print(\"Longitude:\", data[0][\"lon\"])\n",
    "        else:\n",
    "            print(\"No results found.\")\n",
    "    except requests.exceptions.JSONDecodeError:\n",
    "        print(\"Response was not JSON:\", response.text)\n",
    "else:\n",
    "    print(f\"Error: HTTP {response.status_code}\")\n",
    "\n"
   ]
  },
  {
   "cell_type": "code",
   "execution_count": null,
   "id": "cb690d14",
   "metadata": {},
   "outputs": [],
   "source": []
  }
 ],
 "metadata": {
  "kernelspec": {
   "display_name": "base",
   "language": "python",
   "name": "python3"
  },
  "language_info": {
   "codemirror_mode": {
    "name": "ipython",
    "version": 3
   },
   "file_extension": ".py",
   "mimetype": "text/x-python",
   "name": "python",
   "nbconvert_exporter": "python",
   "pygments_lexer": "ipython3",
   "version": "3.13.2"
  }
 },
 "nbformat": 4,
 "nbformat_minor": 5
}
